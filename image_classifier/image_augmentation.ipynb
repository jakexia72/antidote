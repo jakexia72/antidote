{
 "cells": [
  {
   "cell_type": "code",
   "execution_count": 24,
   "metadata": {},
   "outputs": [],
   "source": [
    "from fastai.vision import *\n",
    "for filename in os.listdir(\"C:\\\\Users\\\\jenni\\\\Documents\\\\HTN Tests\\\\Images\\\\Yes\\\\Breast Cancer\\\\Comp\"):\n",
    "    if filename.endswith(\".png\"):\n",
    "        img=open_image(\"C:\\\\Users\\\\jenni\\\\Documents\\\\HTN Tests\\\\Images\\\\Yes\\\\Breast Cancer\\\\Comp\\\\\" + filename)\n",
    "        \n",
    "        dihedral(img, 1)\n",
    "        temp = os.path.splitext(filename)     \n",
    "        img.save(\"C:\\\\Users\\\\jenni\\\\Documents\\\\HTN Tests\\\\Images\\\\Yes\\\\Breast Cancer\\\\augComp\\\\\" + temp[0]+\"1\"+temp[1])\n",
    "\n",
    "        dihedral(img, 2)\n",
    "        temp = os.path.splitext(filename)     \n",
    "        img.save(\"C:\\\\Users\\\\jenni\\\\Documents\\\\HTN Tests\\\\Images\\\\Yes\\\\Breast Cancer\\\\augComp\\\\\" + temp[0]+\"2\"+temp[1])\n",
    "        \n",
    "        dihedral(img, 3)\n",
    "        temp = os.path.splitext(filename)     \n",
    "        img.save(\"C:\\\\Users\\\\jenni\\\\Documents\\\\HTN Tests\\\\Images\\\\Yes\\\\Breast Cancer\\\\augComp\\\\\" + temp[0]+\"3\"+temp[1])\n",
    "        \n",
    "        dihedral(img, 4)\n",
    "        temp = os.path.splitext(filename)     \n",
    "        img.save(\"C:\\\\Users\\\\jenni\\\\Documents\\\\HTN Tests\\\\Images\\\\Yes\\\\Breast Cancer\\\\augComp\\\\\" + temp[0]+\"4\"+temp[1])"
   ]
  },
  {
   "cell_type": "code",
   "execution_count": 15,
   "metadata": {},
   "outputs": [],
   "source": [
    "doc(open_image)"
   ]
  },
  {
   "cell_type": "code",
   "execution_count": 18,
   "metadata": {},
   "outputs": [
    {
     "data": {
      "text/plain": [
       "('yes_71496458-1', '.png')"
      ]
     },
     "execution_count": 18,
     "metadata": {},
     "output_type": "execute_result"
    }
   ],
   "source": [
    "os.path.splitext(\"yes_71496458-1.png\")"
   ]
  },
  {
   "cell_type": "code",
   "execution_count": null,
   "metadata": {},
   "outputs": [],
   "source": []
  }
 ],
 "metadata": {
  "kernelspec": {
   "display_name": "Python 3",
   "language": "python",
   "name": "python3"
  },
  "language_info": {
   "codemirror_mode": {
    "name": "ipython",
    "version": 3
   },
   "file_extension": ".py",
   "mimetype": "text/x-python",
   "name": "python",
   "nbconvert_exporter": "python",
   "pygments_lexer": "ipython3",
   "version": "3.7.3"
  }
 },
 "nbformat": 4,
 "nbformat_minor": 2
}
